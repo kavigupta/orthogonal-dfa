{
 "cells": [
  {
   "cell_type": "code",
   "execution_count": 1,
   "id": "fb04c064",
   "metadata": {},
   "outputs": [],
   "source": [
    "%load_ext autoreload\n",
    "%autoreload 2\n",
    "%load_ext jupyter_black"
   ]
  },
  {
   "cell_type": "code",
   "execution_count": 2,
   "id": "6fb8a340-fd6e-4e12-a9b6-f5f29aeb78c4",
   "metadata": {},
   "outputs": [],
   "source": [
    "import os\n",
    "\n",
    "os.chdir(\"..\")\n",
    "os.environ[\"CUDA_VISIBLE_DEVICES\"] = \"2\""
   ]
  },
  {
   "cell_type": "code",
   "execution_count": 3,
   "id": "5e8a3281",
   "metadata": {},
   "outputs": [],
   "source": [
    "import torch\n",
    "import numpy as np\n",
    "import matplotlib.pyplot as plt"
   ]
  },
  {
   "cell_type": "code",
   "execution_count": 4,
   "id": "98eb7945",
   "metadata": {},
   "outputs": [],
   "source": [
    "from orthogonal_dfa.spliceai.load_model import load_spliceai\n",
    "\n",
    "from orthogonal_dfa.data.sample_text import sample_text\n",
    "from orthogonal_dfa.deep_dfa import ProbabilisticAutoma\n",
    "from orthogonal_dfa.math import corr\n",
    "from orthogonal_dfa.manual_dfa.stop_codon_dfa import stop_codon_dfa\n",
    "\n",
    "from orthogonal_dfa.oracle.evaluate import (\n",
    "    multidimensional_confusion,\n",
    "    print_metrics,\n",
    "    pack_as_uint32,\n",
    "    conditional_mutual_information,\n",
    "    ConditionalMutualInformation,\n",
    "    actual_pct_difference_by_prediction,\n",
    "    evaluate_dfas,\n",
    "    DEMO_SEED,\n",
    ")\n",
    "from orthogonal_dfa.spliceai.load_model import load_spliceai\n",
    "from orthogonal_dfa.data.exon import default_exon\n",
    "from orthogonal_dfa.utils.dfa import (\n",
    "    dfa_symbols_to_num,\n",
    "    TorchDFA,\n",
    "    p_to_al,\n",
    "    dfa_symbols_to_acgt,\n",
    ")\n",
    "from orthogonal_dfa.mutation.mutation import RandomSingleMutation\n",
    "\n",
    "from orthogonal_dfa.algorithms.greedy import greedy_optimize\n",
    "from orthogonal_dfa.experiments.sensitivity import *"
   ]
  },
  {
   "cell_type": "code",
   "execution_count": 5,
   "id": "c7373d97-9ee7-4b86-90ea-414f6b07f742",
   "metadata": {},
   "outputs": [],
   "source": [
    "dfa = stop_codon_dfa()"
   ]
  },
  {
   "cell_type": "code",
   "execution_count": 6,
   "id": "da8d6e05-d9fa-4e50-a4c5-75ac93ef3d85",
   "metadata": {},
   "outputs": [],
   "source": [
    "dfa_no_tga = stop_codon_dfa((\"TAG\", \"TAA\"))"
   ]
  },
  {
   "cell_type": "code",
   "execution_count": 7,
   "id": "b430cee6-1d40-422b-b336-4fdf9be110cf",
   "metadata": {},
   "outputs": [],
   "source": [
    "rsm = RandomSingleMutation()"
   ]
  },
  {
   "cell_type": "code",
   "execution_count": 8,
   "id": "f3c05963",
   "metadata": {},
   "outputs": [
    {
     "data": {
      "text/plain": [
       "20"
      ]
     },
     "execution_count": 8,
     "metadata": {},
     "output_type": "execute_result"
    }
   ],
   "source": [
    "len(dfa.states)"
   ]
  },
  {
   "cell_type": "code",
   "execution_count": 9,
   "id": "b0268e13-9d62-41b0-ac80-875a63c29d93",
   "metadata": {},
   "outputs": [
    {
     "data": {
      "text/plain": [
       "16"
      ]
     },
     "execution_count": 9,
     "metadata": {},
     "output_type": "execute_result"
    }
   ],
   "source": [
    "len(dfa_no_tga.states)"
   ]
  },
  {
   "cell_type": "code",
   "execution_count": 10,
   "id": "3c4ad76c",
   "metadata": {},
   "outputs": [
    {
     "name": "stdout",
     "output_type": "stream",
     "text": [
      "Num self loops by state: {19: 4, 0: 3, 1: 1}; total: 8\n"
     ]
    }
   ],
   "source": [
    "num_self_loops_each = {\n",
    "    x: sum(y == x for y in v.values()) for x, v in dfa.transition_function.items()\n",
    "}\n",
    "num_self_loops_each = {k: v for k, v in num_self_loops_each.items() if v}\n",
    "print(\n",
    "    f\"Num self loops by state: {num_self_loops_each}; total: {sum(num_self_loops_each.values())}\"\n",
    ")"
   ]
  },
  {
   "cell_type": "code",
   "execution_count": 11,
   "id": "ba324be0-311f-4862-b997-55b666d8ed62",
   "metadata": {},
   "outputs": [],
   "source": [
    "model = load_spliceai(400, 0)"
   ]
  },
  {
   "cell_type": "code",
   "execution_count": 12,
   "id": "5274befc-63f7-4dca-888e-06bebd7b7bf3",
   "metadata": {},
   "outputs": [],
   "source": [
    "def eval_de(d, *c):\n",
    "    return evaluate_dfas(default_exon, [d], c, model, count=100_000, seed=DEMO_SEED)[0]"
   ]
  },
  {
   "cell_type": "code",
   "execution_count": 13,
   "id": "740462a4-e97a-4e4e-991b-1dd30ae86d73",
   "metadata": {
    "scrolled": true
   },
   "outputs": [
    {
     "name": "stdout",
     "output_type": "stream",
     "text": [
      "no-ORF\n",
      "Mutual Information:\n",
      "    0.0471b (0.0450b, 0.0493b)\n",
      "Actual % Difference by Prediction:\n",
      "    -35.41% (-36.15%, -34.67%)\n",
      "\n",
      "no-ORF-TA\n",
      "Mutual Information:\n",
      "    0.0630b (0.0605b, 0.0656b)\n",
      "Actual % Difference by Prediction:\n",
      "    -30.43% (-31.02%, -29.82%)\n",
      "\n",
      "no-ORF | no-ORF-TA\n",
      "Mutual Information:\n",
      "    0.0098b (0.0088b, 0.0109b)\n",
      "Actual % Difference by Prediction:\n",
      "    28.81% (28.45%, 29.17%)\n"
     ]
    }
   ],
   "source": [
    "print(\"no-ORF\")\n",
    "print_metrics(eval_de(dfa))\n",
    "print()\n",
    "print(\"no-ORF-TA\")\n",
    "print_metrics(eval_de(dfa_no_tga))\n",
    "print()\n",
    "print(\"no-ORF | no-ORF-TA\")\n",
    "print_metrics(eval_de(dfa, dfa_no_tga))"
   ]
  },
  {
   "cell_type": "code",
   "execution_count": 14,
   "id": "d038b5d0-ee5f-4f3b-800f-71912aa7154c",
   "metadata": {},
   "outputs": [],
   "source": [
    "confs, _ = sensitivity_analysis(\n",
    "    dfa_no_tga, [], model, default_exon, rsm, num_samples=\"all\", seed=0\n",
    ")"
   ]
  },
  {
   "cell_type": "code",
   "execution_count": 15,
   "id": "75490fff-f3f4-40bd-9f14-3d4360a5660e",
   "metadata": {},
   "outputs": [],
   "source": [
    "main = conditional_mutual_information(eval_de(dfa_no_tga)[None])[0]"
   ]
  },
  {
   "cell_type": "code",
   "execution_count": 16,
   "id": "40bcdf04-ea20-42db-975d-ffe12d099a63",
   "metadata": {},
   "outputs": [],
   "source": [
    "mut_1 = conditional_mutual_information(confs)"
   ]
  },
  {
   "cell_type": "code",
   "execution_count": 17,
   "id": "476a25fd-29ce-4c00-b29f-5eaa3126bb20",
   "metadata": {},
   "outputs": [],
   "source": [
    "from orthogonal_dfa.utils.plotting import plot_vertical_histogram"
   ]
  },
  {
   "cell_type": "code",
   "execution_count": 18,
   "id": "ce3ce394-cebd-42c2-8fd5-d2fad3293bde",
   "metadata": {},
   "outputs": [
    {
     "data": {
      "image/png": "[encoded data removed]",
      "text/plain": [
       "<Figure size 640x480 with 1 Axes>"
      ]
     },
     "metadata": {},
     "output_type": "display_data"
    }
   ],
   "source": [
    "plt.scatter([0], main)\n",
    "plot_vertical_histogram(1, mut_1, marker=\".\")"
   ]
  },
  {
   "cell_type": "code",
   "execution_count": 19,
   "id": "b0bff684-27db-461f-a584-cee0398e6dfb",
   "metadata": {},
   "outputs": [],
   "source": [
    "optimal, path = greedy_optimize(\n",
    "    dfa_no_tga,\n",
    "    default_exon,\n",
    "    model,\n",
    "    rsm,\n",
    "    seed=0,\n",
    "    scoring=ConditionalMutualInformation(),\n",
    "    tolerance=0.01,\n",
    ")"
   ]
  },
  {
   "cell_type": "code",
   "execution_count": 20,
   "id": "ee1183ff-94d8-42bf-8920-0390f99de124",
   "metadata": {},
   "outputs": [
    {
     "data": {
      "text/plain": [
       "[(array([1, 7, 1, 1], dtype=uint32), 0.06856502157193993)]"
      ]
     },
     "execution_count": 20,
     "metadata": {},
     "output_type": "execute_result"
    }
   ],
   "source": [
    "path"
   ]
  },
  {
   "cell_type": "code",
   "execution_count": 21,
   "id": "c85ae5ab-f19f-455e-abe4-342039df5799",
   "metadata": {},
   "outputs": [
    {
     "data": {
      "image/svg+xml": [
       "<?xml version=\"1.0\" encoding=\"UTF-8\" standalone=\"no\"?>\n",
       "<!DOCTYPE svg PUBLIC \"-//W3C//DTD SVG 1.1//EN\"\n",
       " \"http://www.w3.org/Graphics/SVG/1.1/DTD/svg11.dtd\">\n",
       "<!-- Generated by graphviz version 12.2.1 (0)\n",
       " -->\n",
       "<!-- Pages: 1 -->\n",
       "<svg width=\"1557pt\" height=\"284pt\"\n",
       " viewBox=\"0.00 0.00 1557.35 284.25\" xmlns=\"http://www.w3.org/2000/svg\" xmlns:xlink=\"http://www.w3.org/1999/xlink\">\n",
       "<g id=\"graph0\" class=\"graph\" transform=\"scale(1 1) rotate(0) translate(4 280.25)\">\n",
       "<polygon fill=\"white\" stroke=\"none\" points=\"-4,4 -4,-280.25 1553.35,-280.25 1553.35,4 -4,4\"/>\n",
       "<!-- fa2fba79&#45;0402&#45;434c&#45;8e74&#45;83bc44cedc63 -->\n",
       "<g id=\"node1\" class=\"node\">\n",
       "<title>fa2fba79&#45;0402&#45;434c&#45;8e74&#45;83bc44cedc63</title>\n",
       "<g id=\"a_node1\"><a xlink:title=\".\">\n",
       "<ellipse fill=\"black\" stroke=\"black\" cx=\"1.8\" cy=\"-123\" rx=\"1.8\" ry=\"1.8\"/>\n",
       "</a>\n",
       "</g>\n",
       "</g>\n",
       "<!-- 0 -->\n",
       "<g id=\"node2\" class=\"node\">\n",
       "<title>0</title>\n",
       "<ellipse fill=\"none\" stroke=\"black\" cx=\"58.6\" cy=\"-123\" rx=\"18\" ry=\"18\"/>\n",
       "<text text-anchor=\"middle\" x=\"58.6\" y=\"-118.33\" font-family=\"Times,serif\" font-size=\"14.00\">0</text>\n",
       "</g>\n",
       "<!-- fa2fba79&#45;0402&#45;434c&#45;8e74&#45;83bc44cedc63&#45;&gt;0 -->\n",
       "<g id=\"edge1\" class=\"edge\">\n",
       "<title>fa2fba79&#45;0402&#45;434c&#45;8e74&#45;83bc44cedc63&#45;&gt;0</title>\n",
       "<g id=\"a_edge1\"><a xlink:title=\"&#45;&gt;0\">\n",
       "<path fill=\"none\" stroke=\"black\" d=\"M3.75,-123C7.09,-123 18.72,-123 30.32,-123\"/>\n",
       "<polygon fill=\"black\" stroke=\"black\" points=\"30.29,-125.98 38.79,-123 30.29,-120.03 30.29,-125.98\"/>\n",
       "</a>\n",
       "</g>\n",
       "</g>\n",
       "<!-- 0&#45;&gt;0 -->\n",
       "<g id=\"edge2\" class=\"edge\">\n",
       "<title>0&#45;&gt;0</title>\n",
       "<path fill=\"none\" stroke=\"black\" d=\"M52.13,-140.04C50.81,-149.86 52.97,-159 58.6,-159 62.21,-159 64.39,-155.25 65.14,-149.97\"/>\n",
       "<polygon fill=\"black\" stroke=\"black\" points=\"68.12,-150.03 65.08,-141.55 62.17,-150.08 68.12,-150.03\"/>\n",
       "<text text-anchor=\"middle\" x=\"58.6\" y=\"-162.94\" font-family=\"Times,serif\" font-size=\"14.00\">A,C,G</text>\n",
       "</g>\n",
       "<!-- 1 -->\n",
       "<g id=\"node3\" class=\"node\">\n",
       "<title>1</title>\n",
       "<ellipse fill=\"none\" stroke=\"black\" cx=\"156.85\" cy=\"-153\" rx=\"18\" ry=\"18\"/>\n",
       "<text text-anchor=\"middle\" x=\"156.85\" y=\"-148.32\" font-family=\"Times,serif\" font-size=\"14.00\">1</text>\n",
       "</g>\n",
       "<!-- 0&#45;&gt;1 -->\n",
       "<g id=\"edge3\" class=\"edge\">\n",
       "<title>0&#45;&gt;1</title>\n",
       "<path fill=\"none\" stroke=\"black\" d=\"M74.52,-131.85C80.58,-135.13 87.76,-138.62 94.6,-141 105.54,-144.8 118.02,-147.52 128.84,-149.39\"/>\n",
       "<polygon fill=\"black\" stroke=\"black\" points=\"128.25,-152.31 137.12,-150.71 129.19,-146.43 128.25,-152.31\"/>\n",
       "<text text-anchor=\"middle\" x=\"107.72\" y=\"-151.55\" font-family=\"Times,serif\" font-size=\"14.00\">T</text>\n",
       "</g>\n",
       "<!-- 1&#45;&gt;0 -->\n",
       "<g id=\"edge4\" class=\"edge\">\n",
       "<title>1&#45;&gt;0</title>\n",
       "<path fill=\"none\" stroke=\"black\" d=\"M145.23,-138.67C139.02,-131.53 130.5,-123.6 120.85,-119.75 109.95,-115.4 97.08,-115.4 85.95,-116.81\"/>\n",
       "<polygon fill=\"black\" stroke=\"black\" points=\"85.72,-113.83 77.83,-118.16 86.7,-119.7 85.72,-113.83\"/>\n",
       "<text text-anchor=\"middle\" x=\"107.72\" y=\"-123.7\" font-family=\"Times,serif\" font-size=\"14.00\">C,G</text>\n",
       "</g>\n",
       "<!-- 1&#45;&gt;1 -->\n",
       "<g id=\"edge5\" class=\"edge\">\n",
       "<title>1&#45;&gt;1</title>\n",
       "<path fill=\"none\" stroke=\"black\" d=\"M149.66,-169.66C148.07,-179.62 150.46,-189 156.85,-189 161.04,-189 163.51,-184.96 164.27,-179.37\"/>\n",
       "<polygon fill=\"black\" stroke=\"black\" points=\"167.25,-179.6 164.08,-171.17 161.3,-179.74 167.25,-179.6\"/>\n",
       "<text text-anchor=\"middle\" x=\"156.85\" y=\"-192.94\" font-family=\"Times,serif\" font-size=\"14.00\">T</text>\n",
       "</g>\n",
       "<!-- 2 -->\n",
       "<g id=\"node4\" class=\"node\">\n",
       "<title>2</title>\n",
       "<ellipse fill=\"none\" stroke=\"black\" cx=\"238.6\" cy=\"-123\" rx=\"18\" ry=\"18\"/>\n",
       "<text text-anchor=\"middle\" x=\"238.6\" y=\"-118.33\" font-family=\"Times,serif\" font-size=\"14.00\">2</text>\n",
       "</g>\n",
       "<!-- 1&#45;&gt;2 -->\n",
       "<g id=\"edge6\" class=\"edge\">\n",
       "<title>1&#45;&gt;2</title>\n",
       "<path fill=\"none\" stroke=\"black\" d=\"M174.7,-149.38C183.2,-147.33 193.6,-144.48 202.6,-141 206.3,-139.57 210.11,-137.87 213.8,-136.09\"/>\n",
       "<polygon fill=\"black\" stroke=\"black\" points=\"215.02,-138.81 221.24,-132.3 212.32,-133.51 215.02,-138.81\"/>\n",
       "<text text-anchor=\"middle\" x=\"197.72\" y=\"-148.28\" font-family=\"Times,serif\" font-size=\"14.00\">A</text>\n",
       "</g>\n",
       "<!-- 2&#45;&gt;0 -->\n",
       "<g id=\"edge7\" class=\"edge\">\n",
       "<title>2&#45;&gt;0</title>\n",
       "<path fill=\"none\" stroke=\"black\" d=\"M220.97,-117.79C215.2,-116.1 208.65,-114.32 202.6,-113 155.7,-102.75 141.75,-102.99 94.6,-112 91.57,-112.58 88.43,-113.33 85.34,-114.17\"/>\n",
       "<polygon fill=\"black\" stroke=\"black\" points=\"84.5,-111.31 77.23,-116.62 86.23,-117.01 84.5,-111.31\"/>\n",
       "<text text-anchor=\"middle\" x=\"156.85\" y=\"-111.47\" font-family=\"Times,serif\" font-size=\"14.00\">C</text>\n",
       "</g>\n",
       "<!-- 2&#45;&gt;1 -->\n",
       "<g id=\"edge8\" class=\"edge\">\n",
       "<title>2&#45;&gt;1</title>\n",
       "<path fill=\"none\" stroke=\"black\" d=\"M220.91,-118.36C212.25,-116.8 201.68,-116.23 192.85,-119.75 186.37,-122.34 180.39,-126.76 175.29,-131.56\"/>\n",
       "<polygon fill=\"black\" stroke=\"black\" points=\"173.25,-129.38 169.52,-137.58 177.55,-133.5 173.25,-129.38\"/>\n",
       "<text text-anchor=\"middle\" x=\"197.72\" y=\"-123.7\" font-family=\"Times,serif\" font-size=\"14.00\">T</text>\n",
       "</g>\n",
       "<!-- 3 -->\n",
       "<g id=\"node5\" class=\"node\">\n",
       "<title>3</title>\n",
       "<ellipse fill=\"none\" stroke=\"black\" cx=\"336.1\" cy=\"-123\" rx=\"18\" ry=\"18\"/>\n",
       "<text text-anchor=\"middle\" x=\"336.1\" y=\"-118.33\" font-family=\"Times,serif\" font-size=\"14.00\">3</text>\n",
       "</g>\n",
       "<!-- 2&#45;&gt;3 -->\n",
       "<g id=\"edge9\" class=\"edge\">\n",
       "<title>2&#45;&gt;3</title>\n",
       "<path fill=\"none\" stroke=\"black\" d=\"M256.67,-123C270.98,-123 291.66,-123 308.19,-123\"/>\n",
       "<polygon fill=\"black\" stroke=\"black\" points=\"307.84,-125.98 316.34,-123 307.84,-120.03 307.84,-125.98\"/>\n",
       "<text text-anchor=\"middle\" x=\"287.35\" y=\"-126.95\" font-family=\"Times,serif\" font-size=\"14.00\">A,G</text>\n",
       "</g>\n",
       "<!-- 4 -->\n",
       "<g id=\"node6\" class=\"node\">\n",
       "<title>4</title>\n",
       "<ellipse fill=\"none\" stroke=\"black\" cx=\"463.6\" cy=\"-169\" rx=\"18\" ry=\"18\"/>\n",
       "<text text-anchor=\"middle\" x=\"463.6\" y=\"-164.32\" font-family=\"Times,serif\" font-size=\"14.00\">4</text>\n",
       "</g>\n",
       "<!-- 3&#45;&gt;4 -->\n",
       "<g id=\"edge10\" class=\"edge\">\n",
       "<title>3&#45;&gt;4</title>\n",
       "<path fill=\"none\" stroke=\"black\" d=\"M353.08,-129.55C359.03,-131.95 365.85,-134.65 372.1,-137 393.81,-145.18 418.67,-153.92 436.84,-160.2\"/>\n",
       "<polygon fill=\"black\" stroke=\"black\" points=\"435.74,-162.97 444.75,-162.93 437.68,-157.34 435.74,-162.97\"/>\n",
       "<text text-anchor=\"middle\" x=\"398.72\" y=\"-159.51\" font-family=\"Times,serif\" font-size=\"14.00\">A,C,G,T</text>\n",
       "</g>\n",
       "<!-- 5 -->\n",
       "<g id=\"node7\" class=\"node\">\n",
       "<title>5</title>\n",
       "<ellipse fill=\"none\" stroke=\"black\" cx=\"579.85\" cy=\"-67\" rx=\"18\" ry=\"18\"/>\n",
       "<text text-anchor=\"middle\" x=\"579.85\" y=\"-62.33\" font-family=\"Times,serif\" font-size=\"14.00\">5</text>\n",
       "</g>\n",
       "<!-- 4&#45;&gt;5 -->\n",
       "<g id=\"edge11\" class=\"edge\">\n",
       "<title>4&#45;&gt;5</title>\n",
       "<path fill=\"none\" stroke=\"black\" d=\"M477.71,-157.3C497.51,-139.62 535.21,-105.96 558.57,-85.11\"/>\n",
       "<polygon fill=\"black\" stroke=\"black\" points=\"560.41,-87.45 564.77,-79.57 556.45,-83.01 560.41,-87.45\"/>\n",
       "<text text-anchor=\"middle\" x=\"522.1\" y=\"-137.04\" font-family=\"Times,serif\" font-size=\"14.00\">A,C,G</text>\n",
       "</g>\n",
       "<!-- 6 -->\n",
       "<g id=\"node8\" class=\"node\">\n",
       "<title>6</title>\n",
       "<ellipse fill=\"none\" stroke=\"black\" cx=\"856.6\" cy=\"-120\" rx=\"18\" ry=\"18\"/>\n",
       "<text text-anchor=\"middle\" x=\"856.6\" y=\"-115.33\" font-family=\"Times,serif\" font-size=\"14.00\">6</text>\n",
       "</g>\n",
       "<!-- 4&#45;&gt;6 -->\n",
       "<g id=\"edge12\" class=\"edge\">\n",
       "<title>4&#45;&gt;6</title>\n",
       "<path fill=\"none\" stroke=\"black\" d=\"M479.03,-178.76C500.04,-192 540.69,-214 578.85,-214 578.85,-214 578.85,-214 776.6,-214 812.07,-214 834.8,-174.29 846.37,-146.49\"/>\n",
       "<polygon fill=\"black\" stroke=\"black\" points=\"849.11,-147.65 849.45,-138.65 843.57,-145.47 849.11,-147.65\"/>\n",
       "<text text-anchor=\"middle\" x=\"679.6\" y=\"-217.94\" font-family=\"Times,serif\" font-size=\"14.00\">T</text>\n",
       "</g>\n",
       "<!-- 5&#45;&gt;3 -->\n",
       "<g id=\"edge13\" class=\"edge\">\n",
       "<title>5&#45;&gt;3</title>\n",
       "<path fill=\"none\" stroke=\"black\" d=\"M561.65,-69.2C525.78,-74.08 440.66,-87.11 372.1,-109 368.82,-110.05 365.41,-111.25 362.07,-112.51\"/>\n",
       "<polygon fill=\"black\" stroke=\"black\" points=\"361.18,-109.66 354.36,-115.55 363.36,-115.2 361.18,-109.66\"/>\n",
       "<text text-anchor=\"middle\" x=\"463.6\" y=\"-94.01\" font-family=\"Times,serif\" font-size=\"14.00\">A,C,G</text>\n",
       "</g>\n",
       "<!-- 7 -->\n",
       "<g id=\"node9\" class=\"node\">\n",
       "<title>7</title>\n",
       "<ellipse fill=\"none\" stroke=\"black\" cx=\"679.6\" cy=\"-72\" rx=\"18\" ry=\"18\"/>\n",
       "<text text-anchor=\"middle\" x=\"679.6\" y=\"-67.33\" font-family=\"Times,serif\" font-size=\"14.00\">7</text>\n",
       "</g>\n",
       "<!-- 5&#45;&gt;7 -->\n",
       "<g id=\"edge14\" class=\"edge\">\n",
       "<title>5&#45;&gt;7</title>\n",
       "<path fill=\"none\" stroke=\"black\" d=\"M598.33,-67.89C613.06,-68.65 634.4,-69.74 651.37,-70.61\"/>\n",
       "<polygon fill=\"black\" stroke=\"black\" points=\"651.13,-73.57 659.77,-71.04 651.43,-67.63 651.13,-73.57\"/>\n",
       "<text text-anchor=\"middle\" x=\"630.47\" y=\"-74.05\" font-family=\"Times,serif\" font-size=\"14.00\">T</text>\n",
       "</g>\n",
       "<!-- 6&#45;&gt;3 -->\n",
       "<g id=\"edge15\" class=\"edge\">\n",
       "<title>6&#45;&gt;3</title>\n",
       "<path fill=\"none\" stroke=\"black\" d=\"M838.35,-121.03C822.35,-121.9 797.87,-123 776.6,-123 462.6,-123 462.6,-123 462.6,-123 428.7,-123 389.66,-123 364.24,-123\"/>\n",
       "<polygon fill=\"black\" stroke=\"black\" points=\"364.57,-120.03 356.07,-123 364.57,-125.98 364.57,-120.03\"/>\n",
       "<text text-anchor=\"middle\" x=\"630.47\" y=\"-126.95\" font-family=\"Times,serif\" font-size=\"14.00\">C,G</text>\n",
       "</g>\n",
       "<!-- 6&#45;&gt;7 -->\n",
       "<g id=\"edge16\" class=\"edge\">\n",
       "<title>6&#45;&gt;7</title>\n",
       "<path fill=\"none\" stroke=\"black\" d=\"M840.23,-111.66C827.94,-105.33 810.1,-96.86 793.6,-91.75 764.89,-82.86 730.77,-77.59 707.59,-74.76\"/>\n",
       "<polygon fill=\"black\" stroke=\"black\" points=\"708.06,-71.82 699.27,-73.8 707.38,-77.73 708.06,-71.82\"/>\n",
       "<text text-anchor=\"middle\" x=\"775.6\" y=\"-95.7\" font-family=\"Times,serif\" font-size=\"14.00\">T</text>\n",
       "</g>\n",
       "<!-- 8 -->\n",
       "<g id=\"node10\" class=\"node\">\n",
       "<title>8</title>\n",
       "<ellipse fill=\"none\" stroke=\"black\" cx=\"944.2\" cy=\"-120\" rx=\"18\" ry=\"18\"/>\n",
       "<text text-anchor=\"middle\" x=\"944.2\" y=\"-115.33\" font-family=\"Times,serif\" font-size=\"14.00\">8</text>\n",
       "</g>\n",
       "<!-- 6&#45;&gt;8 -->\n",
       "<g id=\"edge17\" class=\"edge\">\n",
       "<title>6&#45;&gt;8</title>\n",
       "<path fill=\"none\" stroke=\"black\" d=\"M874.92,-120C886.76,-120 902.68,-120 916.17,-120\"/>\n",
       "<polygon fill=\"black\" stroke=\"black\" points=\"915.89,-122.98 924.39,-120 915.89,-117.03 915.89,-122.98\"/>\n",
       "<text text-anchor=\"middle\" x=\"897.47\" y=\"-123.95\" font-family=\"Times,serif\" font-size=\"14.00\">A</text>\n",
       "</g>\n",
       "<!-- 7&#45;&gt;4 -->\n",
       "<g id=\"edge18\" class=\"edge\">\n",
       "<title>7&#45;&gt;4</title>\n",
       "<path fill=\"none\" stroke=\"black\" d=\"M674.95,-89.9C670.53,-106.69 661.36,-131.09 643.6,-144 598.36,-176.88 529.34,-176.1 491.59,-172.58\"/>\n",
       "<polygon fill=\"black\" stroke=\"black\" points=\"492.09,-169.64 483.33,-171.71 491.47,-175.56 492.09,-169.64\"/>\n",
       "<text text-anchor=\"middle\" x=\"579.85\" y=\"-176.41\" font-family=\"Times,serif\" font-size=\"14.00\">C,G,T</text>\n",
       "</g>\n",
       "<!-- 9 -->\n",
       "<g id=\"node11\" class=\"node\">\n",
       "<title>9</title>\n",
       "<ellipse fill=\"none\" stroke=\"black\" cx=\"775.6\" cy=\"-18\" rx=\"18\" ry=\"18\"/>\n",
       "<text text-anchor=\"middle\" x=\"775.6\" y=\"-13.32\" font-family=\"Times,serif\" font-size=\"14.00\">9</text>\n",
       "</g>\n",
       "<!-- 7&#45;&gt;9 -->\n",
       "<g id=\"edge19\" class=\"edge\">\n",
       "<title>7&#45;&gt;9</title>\n",
       "<path fill=\"none\" stroke=\"black\" d=\"M694.53,-61.11C700.8,-56.43 708.4,-51.06 715.6,-46.75 726.49,-40.23 739.07,-33.95 749.81,-28.92\"/>\n",
       "<polygon fill=\"black\" stroke=\"black\" points=\"750.82,-31.73 757.31,-25.49 748.35,-26.32 750.82,-31.73\"/>\n",
       "<text text-anchor=\"middle\" x=\"727.6\" y=\"-50.7\" font-family=\"Times,serif\" font-size=\"14.00\">A</text>\n",
       "</g>\n",
       "<!-- 8&#45;&gt;4 -->\n",
       "<g id=\"edge20\" class=\"edge\">\n",
       "<title>8&#45;&gt;4</title>\n",
       "<path fill=\"none\" stroke=\"black\" d=\"M940.7,-137.89C934.34,-175.43 913.86,-259 857.6,-259 578.85,-259 578.85,-259 578.85,-259 535.56,-259 499.01,-218.63 479.59,-191.97\"/>\n",
       "<polygon fill=\"black\" stroke=\"black\" points=\"482.09,-190.35 474.77,-185.1 477.22,-193.77 482.09,-190.35\"/>\n",
       "<text text-anchor=\"middle\" x=\"727.6\" y=\"-262.94\" font-family=\"Times,serif\" font-size=\"14.00\">C,T</text>\n",
       "</g>\n",
       "<!-- 10 -->\n",
       "<g id=\"node12\" class=\"node\">\n",
       "<title>10</title>\n",
       "<ellipse fill=\"none\" stroke=\"black\" cx=\"1081.2\" cy=\"-93\" rx=\"23.85\" ry=\"23.85\"/>\n",
       "<text text-anchor=\"middle\" x=\"1081.2\" y=\"-88.33\" font-family=\"Times,serif\" font-size=\"14.00\">10</text>\n",
       "</g>\n",
       "<!-- 8&#45;&gt;10 -->\n",
       "<g id=\"edge21\" class=\"edge\">\n",
       "<title>8&#45;&gt;10</title>\n",
       "<path fill=\"none\" stroke=\"black\" d=\"M962.29,-116.58C983.67,-112.3 1020.7,-104.89 1047.6,-99.51\"/>\n",
       "<polygon fill=\"black\" stroke=\"black\" points=\"1048.07,-102.45 1055.82,-97.86 1046.9,-96.62 1048.07,-102.45\"/>\n",
       "<text text-anchor=\"middle\" x=\"1012.7\" y=\"-115.21\" font-family=\"Times,serif\" font-size=\"14.00\">A,G</text>\n",
       "</g>\n",
       "<!-- 9&#45;&gt;5 -->\n",
       "<g id=\"edge22\" class=\"edge\">\n",
       "<title>9&#45;&gt;5</title>\n",
       "<path fill=\"none\" stroke=\"black\" d=\"M757.41,-17.55C734.96,-17.41 694.63,-18.64 661.6,-27.75 641.25,-33.37 619.84,-44.02 604.17,-52.82\"/>\n",
       "<polygon fill=\"black\" stroke=\"black\" points=\"602.85,-50.14 596.98,-56.97 605.83,-55.29 602.85,-50.14\"/>\n",
       "<text text-anchor=\"middle\" x=\"679.6\" y=\"-31.7\" font-family=\"Times,serif\" font-size=\"14.00\">C</text>\n",
       "</g>\n",
       "<!-- 9&#45;&gt;6 -->\n",
       "<g id=\"edge23\" class=\"edge\">\n",
       "<title>9&#45;&gt;6</title>\n",
       "<path fill=\"none\" stroke=\"black\" d=\"M792.41,-25.55C801.56,-30.55 812.79,-37.82 820.6,-46.75 832.48,-60.32 841.23,-78.63 847.01,-93.55\"/>\n",
       "<polygon fill=\"black\" stroke=\"black\" points=\"844.15,-94.39 849.86,-101.36 849.74,-92.35 844.15,-94.39\"/>\n",
       "<text text-anchor=\"middle\" x=\"816.1\" y=\"-50.7\" font-family=\"Times,serif\" font-size=\"14.00\">T</text>\n",
       "</g>\n",
       "<!-- 11 -->\n",
       "<g id=\"node13\" class=\"node\">\n",
       "<title>11</title>\n",
       "<ellipse fill=\"none\" stroke=\"black\" cx=\"944.2\" cy=\"-31\" rx=\"23.85\" ry=\"23.85\"/>\n",
       "<text text-anchor=\"middle\" x=\"944.2\" y=\"-26.32\" font-family=\"Times,serif\" font-size=\"14.00\">11</text>\n",
       "</g>\n",
       "<!-- 9&#45;&gt;11 -->\n",
       "<g id=\"edge24\" class=\"edge\">\n",
       "<title>9&#45;&gt;11</title>\n",
       "<path fill=\"none\" stroke=\"black\" d=\"M793.8,-19.34C821.19,-21.48 875.2,-25.69 910.22,-28.43\"/>\n",
       "<polygon fill=\"black\" stroke=\"black\" points=\"909.78,-31.38 918.48,-29.07 910.24,-25.44 909.78,-31.38\"/>\n",
       "<text text-anchor=\"middle\" x=\"856.6\" y=\"-29.53\" font-family=\"Times,serif\" font-size=\"14.00\">A,G</text>\n",
       "</g>\n",
       "<!-- 12 -->\n",
       "<g id=\"node14\" class=\"node\">\n",
       "<title>12</title>\n",
       "<ellipse fill=\"none\" stroke=\"black\" cx=\"1218.1\" cy=\"-33\" rx=\"23.85\" ry=\"23.85\"/>\n",
       "<text text-anchor=\"middle\" x=\"1218.1\" y=\"-28.32\" font-family=\"Times,serif\" font-size=\"14.00\">12</text>\n",
       "</g>\n",
       "<!-- 10&#45;&gt;12 -->\n",
       "<g id=\"edge25\" class=\"edge\">\n",
       "<title>10&#45;&gt;12</title>\n",
       "<path fill=\"none\" stroke=\"black\" d=\"M1100.6,-78.62C1107.4,-73.78 1115.3,-68.62 1123,-64.75 1142.9,-54.78 1166.6,-46.81 1185.2,-41.34\"/>\n",
       "<polygon fill=\"black\" stroke=\"black\" points=\"1185.88,-44.24 1193.24,-39.05 1184.25,-38.52 1185.88,-44.24\"/>\n",
       "<text text-anchor=\"middle\" x=\"1149.6\" y=\"-68.7\" font-family=\"Times,serif\" font-size=\"14.00\">A,C,G,T</text>\n",
       "</g>\n",
       "<!-- 11&#45;&gt;10 -->\n",
       "<g id=\"edge26\" class=\"edge\">\n",
       "<title>11&#45;&gt;10</title>\n",
       "<path fill=\"none\" stroke=\"black\" d=\"M966.29,-40.69C988.87,-51.06 1024.9,-67.61 1050.4,-79.31\"/>\n",
       "<polygon fill=\"black\" stroke=\"black\" points=\"1048.86,-81.88 1057.83,-82.75 1051.36,-76.48 1048.86,-81.88\"/>\n",
       "<text text-anchor=\"middle\" x=\"1012.7\" y=\"-76.9\" font-family=\"Times,serif\" font-size=\"14.00\">A,C,G,T</text>\n",
       "</g>\n",
       "<!-- 12&#45;&gt;11 -->\n",
       "<g id=\"edge27\" class=\"edge\">\n",
       "<title>12&#45;&gt;11</title>\n",
       "<path fill=\"none\" stroke=\"black\" d=\"M1194,-32.83C1145.7,-32.48 1033.9,-31.65 978.12,-31.24\"/>\n",
       "<polygon fill=\"black\" stroke=\"black\" points=\"978.41,-28.27 969.89,-31.18 978.37,-34.22 978.41,-28.27\"/>\n",
       "<text text-anchor=\"middle\" x=\"1081.2\" y=\"-36.12\" font-family=\"Times,serif\" font-size=\"14.00\">A,C,G</text>\n",
       "</g>\n",
       "<!-- 13 -->\n",
       "<g id=\"node15\" class=\"node\">\n",
       "<title>13</title>\n",
       "<ellipse fill=\"none\" stroke=\"black\" cx=\"1310.8\" cy=\"-90\" rx=\"23.85\" ry=\"23.85\"/>\n",
       "<text text-anchor=\"middle\" x=\"1310.8\" y=\"-85.33\" font-family=\"Times,serif\" font-size=\"14.00\">13</text>\n",
       "</g>\n",
       "<!-- 12&#45;&gt;13 -->\n",
       "<g id=\"edge28\" class=\"edge\">\n",
       "<title>12&#45;&gt;13</title>\n",
       "<path fill=\"none\" stroke=\"black\" d=\"M1238.8,-45.37C1251.4,-53.29 1267.9,-63.68 1281.9,-72.44\"/>\n",
       "<polygon fill=\"black\" stroke=\"black\" points=\"1280.14,-74.85 1288.92,-76.85 1283.3,-69.81 1280.14,-74.85\"/>\n",
       "<text text-anchor=\"middle\" x=\"1264.5\" y=\"-67.16\" font-family=\"Times,serif\" font-size=\"14.00\">T</text>\n",
       "</g>\n",
       "<!-- 13&#45;&gt;10 -->\n",
       "<g id=\"edge29\" class=\"edge\">\n",
       "<title>13&#45;&gt;10</title>\n",
       "<path fill=\"none\" stroke=\"black\" d=\"M1286.7,-90.31C1246.1,-90.84 1161.9,-91.95 1115.1,-92.56\"/>\n",
       "<polygon fill=\"black\" stroke=\"black\" points=\"1115.17,-89.59 1106.71,-92.68 1115.25,-95.54 1115.17,-89.59\"/>\n",
       "<text text-anchor=\"middle\" x=\"1218.1\" y=\"-95.45\" font-family=\"Times,serif\" font-size=\"14.00\">C,G,T</text>\n",
       "</g>\n",
       "<!-- 14 -->\n",
       "<g id=\"node16\" class=\"node\">\n",
       "<title>14</title>\n",
       "<ellipse fill=\"none\" stroke=\"black\" cx=\"1404.3\" cy=\"-47\" rx=\"23.85\" ry=\"23.85\"/>\n",
       "<text text-anchor=\"middle\" x=\"1404.3\" y=\"-42.33\" font-family=\"Times,serif\" font-size=\"14.00\">14</text>\n",
       "</g>\n",
       "<!-- 13&#45;&gt;14 -->\n",
       "<g id=\"edge30\" class=\"edge\">\n",
       "<title>13&#45;&gt;14</title>\n",
       "<path fill=\"none\" stroke=\"black\" d=\"M1333,-80.03C1345,-74.38 1360.2,-67.23 1373.4,-61.03\"/>\n",
       "<polygon fill=\"black\" stroke=\"black\" points=\"1374.39,-63.85 1380.83,-57.56 1371.87,-58.46 1374.39,-63.85\"/>\n",
       "<text text-anchor=\"middle\" x=\"1357.5\" y=\"-73.74\" font-family=\"Times,serif\" font-size=\"14.00\">A</text>\n",
       "</g>\n",
       "<!-- 14&#45;&gt;12 -->\n",
       "<g id=\"edge31\" class=\"edge\">\n",
       "<title>14&#45;&gt;12</title>\n",
       "<path fill=\"none\" stroke=\"black\" d=\"M1380.1,-44.28C1366.8,-42.79 1349.8,-40.99 1334.7,-39.75 1306.9,-37.47 1275.3,-35.68 1252.1,-34.52\"/>\n",
       "<polygon fill=\"black\" stroke=\"black\" points=\"1252.25,-31.55 1243.61,-34.1 1251.96,-37.49 1252.25,-31.55\"/>\n",
       "<text text-anchor=\"middle\" x=\"1310.8\" y=\"-43.7\" font-family=\"Times,serif\" font-size=\"14.00\">C,T</text>\n",
       "</g>\n",
       "<!-- 15 -->\n",
       "<g id=\"node17\" class=\"node\">\n",
       "<title>15</title>\n",
       "<ellipse fill=\"none\" stroke=\"black\" cx=\"1517.5\" cy=\"-47\" rx=\"27.85\" ry=\"27.85\"/>\n",
       "<ellipse fill=\"none\" stroke=\"black\" cx=\"1517.5\" cy=\"-47\" rx=\"31.85\" ry=\"31.85\"/>\n",
       "<text text-anchor=\"middle\" x=\"1517.5\" y=\"-42.33\" font-family=\"Times,serif\" font-size=\"14.00\">15</text>\n",
       "</g>\n",
       "<!-- 14&#45;&gt;15 -->\n",
       "<g id=\"edge32\" class=\"edge\">\n",
       "<title>14&#45;&gt;15</title>\n",
       "<path fill=\"none\" stroke=\"black\" d=\"M1428.6,-47C1443.4,-47 1462.8,-47 1479.7,-47\"/>\n",
       "<polygon fill=\"black\" stroke=\"black\" points=\"1479.29,-49.98 1487.79,-47 1479.29,-44.03 1479.29,-49.98\"/>\n",
       "<text text-anchor=\"middle\" x=\"1458.9\" y=\"-50.95\" font-family=\"Times,serif\" font-size=\"14.00\">A,G</text>\n",
       "</g>\n",
       "<!-- 15&#45;&gt;15 -->\n",
       "<g id=\"edge33\" class=\"edge\">\n",
       "<title>15&#45;&gt;15</title>\n",
       "<path fill=\"none\" stroke=\"black\" d=\"M1506.6,-72.92C1505.8,-83.71 1509.4,-92.85 1517.5,-92.85 1522.8,-92.85 1526.2,-88.72 1527.7,-82.75\"/>\n",
       "<polygon fill=\"black\" stroke=\"black\" points=\"1530.66,-83.1 1528.21,-74.43 1524.72,-82.74 1530.66,-83.1\"/>\n",
       "<text text-anchor=\"middle\" x=\"1517.5\" y=\"-96.81\" font-family=\"Times,serif\" font-size=\"14.00\">A,C,G,T</text>\n",
       "</g>\n",
       "</g>\n",
       "</svg>\n"
      ],
      "text/plain": [
       "DFA(states={0, 1, 2, 3, 4, 5, 6, 7, 8, 9, 10, 11, 12, 13, 14, 15}, input_symbols=<pythomata.alphabets.MapAlphabet object at 0x7f76309765d0>, transitions={11: {'G': 10, 'T': 10, 'A': 10, 'C': 10}, 10: {'T': 12, 'G': 12, 'A': 12, 'C': 12}, 13: {'T': 10, 'C': 10, 'A': 14, 'G': 10}, 12: {'G': 11, 'T': 13, 'A': 11, 'C': 11}, 1: {'A': 2, 'T': 1, 'G': 0, 'C': 0}, 2: {'T': 1, 'G': 3, 'A': 3, 'C': 0}, 7: {'A': 9, 'C': 4, 'G': 4, 'T': 4}, 15: {'G': 15, 'T': 15, 'A': 15, 'C': 15}, 8: {'A': 10, 'C': 4, 'G': 10, 'T': 4}, 3: {'T': 4, 'G': 4, 'A': 4, 'C': 4}, 4: {'T': 6, 'A': 5, 'C': 5, 'G': 5}, 6: {'G': 3, 'T': 7, 'C': 3, 'A': 8}, 5: {'G': 3, 'T': 7, 'A': 3, 'C': 3}, 9: {'C': 5, 'G': 11, 'A': 11, 'T': 6}, 0: {'G': 0, 'T': 1, 'A': 0, 'C': 0}, 14: {'T': 12, 'G': 15, 'C': 12, 'A': 15}}, initial_state=0, final_states={15}, allow_partial=False)"
      ]
     },
     "execution_count": 21,
     "metadata": {},
     "output_type": "execute_result"
    }
   ],
   "source": [
    "p_to_al(dfa_no_tga)"
   ]
  }
 ],
 "metadata": {
  "kernelspec": {
   "display_name": "Python 3 (ipykernel)",
   "language": "python",
   "name": "python3"
  },
  "language_info": {
   "codemirror_mode": {
    "name": "ipython",
    "version": 3
   },
   "file_extension": ".py",
   "mimetype": "text/x-python",
   "name": "python",
   "nbconvert_exporter": "python",
   "pygments_lexer": "ipython3",
   "version": "3.11.5"
  }
 },
 "nbformat": 4,
 "nbformat_minor": 5
}
